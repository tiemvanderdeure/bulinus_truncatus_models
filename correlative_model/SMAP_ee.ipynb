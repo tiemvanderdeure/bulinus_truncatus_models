{
 "cells": [
  {
   "cell_type": "code",
   "execution_count": 2,
   "metadata": {},
   "outputs": [
    {
     "data": {
      "text/html": [
       "<p>To authorize access needed by Earth Engine, open the following\n",
       "        URL in a web browser and follow the instructions:</p>\n",
       "        <p><a href=https://code.earthengine.google.com/client-auth?scopes=https%3A//www.googleapis.com/auth/earthengine%20https%3A//www.googleapis.com/auth/devstorage.full_control&request_id=O3m-5EjbmxGSSv4Ox9K1qQR83FjgvORQS75jvQgq3DQ&tc=eXyaH1Ze9aJgxXGd227vrGkL4CHQeCkI4GJ2mhIjc7E&cc=DkzXTACKQHkn5LouDfy5RkhWZpuGxd34GzFzt5AEs58>https://code.earthengine.google.com/client-auth?scopes=https%3A//www.googleapis.com/auth/earthengine%20https%3A//www.googleapis.com/auth/devstorage.full_control&request_id=O3m-5EjbmxGSSv4Ox9K1qQR83FjgvORQS75jvQgq3DQ&tc=eXyaH1Ze9aJgxXGd227vrGkL4CHQeCkI4GJ2mhIjc7E&cc=DkzXTACKQHkn5LouDfy5RkhWZpuGxd34GzFzt5AEs58</a></p>\n",
       "        <p>The authorization workflow will generate a code, which you should paste in the box below.</p>\n",
       "        "
      ],
      "text/plain": [
       "<IPython.core.display.HTML object>"
      ]
     },
     "metadata": {},
     "output_type": "display_data"
    },
    {
     "name": "stdout",
     "output_type": "stream",
     "text": [
      "\n",
      "Successfully saved authorization token.\n"
     ]
    }
   ],
   "source": [
    "import ee\n",
    "ee.Authenticate()\n",
    "ee.Initialize()"
   ]
  },
  {
   "cell_type": "code",
   "execution_count": 46,
   "metadata": {},
   "outputs": [],
   "source": [
    "bands = [\n",
    "    'sm_surface', \n",
    "    'sm_surface_wetness',\n",
    "    'soil_temp_layer1',\n",
    "    'land_evapotranspiration_flux',\n",
    "    'soil_water_infiltration_flux',\n",
    "    'precipitation_total_surface_flux',\n",
    "    'vegetation_greenness_fraction', \n",
    "    'leaf_area_index',\n",
    "    'land_fraction_saturated']\n",
    "\n",
    "bounds = ee.Geometry.BBox(-20,-40,60,60)"
   ]
  },
  {
   "cell_type": "code",
   "execution_count": 47,
   "metadata": {},
   "outputs": [],
   "source": [
    "sm = (ee.ImageCollection(\"NASA/SMAP/SPL4SMGP/007\")\n",
    "    .filterBounds(bounds)\n",
    "    .select(bands)\n",
    "    #.select('sm_surface')\n",
    "    )"
   ]
  },
  {
   "cell_type": "code",
   "execution_count": 48,
   "metadata": {},
   "outputs": [],
   "source": [
    "start = ee.Date('2015-04-01')\n",
    "end = ee.Date('2023-01-01')\n",
    "n_months = end.difference(start, 'month').subtract(1)\n",
    "months = ee.List.sequence(0, n_months).map(lambda n : start.advance(n, 'month'))"
   ]
  },
  {
   "cell_type": "code",
   "execution_count": 49,
   "metadata": {},
   "outputs": [],
   "source": [
    "def makeMonthlyComposite(date):\n",
    "  date = ee.Date(date)\n",
    "  \n",
    "  return (sm\n",
    "          .filterDate(date, date.advance(1, 'month'))\n",
    "          .mean()\n",
    "          .set(\"system:index\", date.format(\"YYYY-MM\")))"
   ]
  },
  {
   "cell_type": "code",
   "execution_count": 50,
   "metadata": {},
   "outputs": [],
   "source": [
    "monthly_sm = ee.ImageCollection(months.map(makeMonthlyComposite))"
   ]
  },
  {
   "cell_type": "code",
   "execution_count": 51,
   "metadata": {},
   "outputs": [],
   "source": [
    "#monthly_sm.aggregate_array(\"system:index\").getInfo()"
   ]
  },
  {
   "cell_type": "code",
   "execution_count": 54,
   "metadata": {},
   "outputs": [],
   "source": [
    "for b in ['soil_water_infiltration_flux', 'sm_surface_wetness']: # bands:\n",
    "    \n",
    "    image = monthly_sm.select(b).toBands()\n",
    "    \n",
    "    task = ee.batch.Export.image.toDrive(\n",
    "        image=image,\n",
    "        description=f'{b}',\n",
    "        folder = 'smap_africa',\n",
    "        region = bounds,\n",
    "        dimensions = \"1920x2400\",\n",
    "        #scale = 5000,\n",
    "        #crs = 'EPSG:25832'\n",
    "    )\n",
    "    task.start()"
   ]
  },
  {
   "cell_type": "code",
   "execution_count": 53,
   "metadata": {},
   "outputs": [
    {
     "data": {
      "text/plain": [
       "{'state': 'READY',\n",
       " 'description': 'land_fraction_saturated',\n",
       " 'creation_timestamp_ms': 1678699832502,\n",
       " 'update_timestamp_ms': 1678699832502,\n",
       " 'start_timestamp_ms': 0,\n",
       " 'task_type': 'EXPORT_IMAGE',\n",
       " 'id': 'GH5PEWUHJSIOHG4LYQ7GJ26H',\n",
       " 'name': 'projects/earthengine-legacy/operations/GH5PEWUHJSIOHG4LYQ7GJ26H'}"
      ]
     },
     "execution_count": 53,
     "metadata": {},
     "output_type": "execute_result"
    }
   ],
   "source": [
    "task.status()"
   ]
  }
 ],
 "metadata": {
  "kernelspec": {
   "display_name": "requests",
   "language": "python",
   "name": "python3"
  },
  "language_info": {
   "codemirror_mode": {
    "name": "ipython",
    "version": 3
   },
   "file_extension": ".py",
   "mimetype": "text/x-python",
   "name": "python",
   "nbconvert_exporter": "python",
   "pygments_lexer": "ipython3",
   "version": "3.11.0"
  },
  "orig_nbformat": 4,
  "vscode": {
   "interpreter": {
    "hash": "a85841601b2073ce9a3574cf729368d3423ec7b9362c85cfd5d03d007994f427"
   }
  }
 },
 "nbformat": 4,
 "nbformat_minor": 2
}
