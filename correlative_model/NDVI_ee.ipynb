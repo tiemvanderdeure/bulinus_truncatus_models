{
 "cells": [
  {
   "cell_type": "code",
   "execution_count": 1,
   "metadata": {},
   "outputs": [
    {
     "data": {
      "text/html": [
       "<p>To authorize access needed by Earth Engine, open the following\n",
       "        URL in a web browser and follow the instructions:</p>\n",
       "        <p><a href=https://code.earthengine.google.com/client-auth?scopes=https%3A//www.googleapis.com/auth/earthengine%20https%3A//www.googleapis.com/auth/devstorage.full_control&request_id=0aC3TK0ehJG4Vx6kbeeU-pU7Pw8yX88tpCmQeuHogIc&tc=w3N_PI0nihrcNXPE3Jbb_Eh8V9DkitWuVHchTYsVKJU&cc=hCrEiNTKtEUrbAnIhu8gf2Nu64E7_GXqtVVMOgXoxnM>https://code.earthengine.google.com/client-auth?scopes=https%3A//www.googleapis.com/auth/earthengine%20https%3A//www.googleapis.com/auth/devstorage.full_control&request_id=0aC3TK0ehJG4Vx6kbeeU-pU7Pw8yX88tpCmQeuHogIc&tc=w3N_PI0nihrcNXPE3Jbb_Eh8V9DkitWuVHchTYsVKJU&cc=hCrEiNTKtEUrbAnIhu8gf2Nu64E7_GXqtVVMOgXoxnM</a></p>\n",
       "        <p>The authorization workflow will generate a code, which you should paste in the box below.</p>\n",
       "        "
      ],
      "text/plain": [
       "<IPython.core.display.HTML object>"
      ]
     },
     "metadata": {},
     "output_type": "display_data"
    },
    {
     "name": "stdout",
     "output_type": "stream",
     "text": [
      "\n",
      "Successfully saved authorization token.\n"
     ]
    }
   ],
   "source": [
    "import ee\n",
    "ee.Authenticate()\n",
    "ee.Initialize()"
   ]
  },
  {
   "cell_type": "code",
   "execution_count": 2,
   "metadata": {},
   "outputs": [],
   "source": [
    "bounds = ee.Geometry.BBox(-20,-40,60,60)"
   ]
  },
  {
   "cell_type": "code",
   "execution_count": 17,
   "metadata": {},
   "outputs": [],
   "source": [
    "ndvicollection = (ee.ImageCollection('MODIS/061/MOD13A2')\n",
    "    .filterBounds(bounds)\n",
    "    .select(['NDVI', 'DetailedQA'])\n",
    "    #.select('sm_surface')\n",
    "    )"
   ]
  },
  {
   "cell_type": "code",
   "execution_count": 5,
   "metadata": {},
   "outputs": [],
   "source": [
    "def bitwiseExtract(value, fromBit, toBit):\n",
    "  maskSize = ee.Number(1).add(toBit).subtract(fromBit)\n",
    "  mask = ee.Number(1).leftShift(maskSize).subtract(1)\n",
    "  return value.rightShift(fromBit).bitwiseAnd(mask)"
   ]
  },
  {
   "cell_type": "code",
   "execution_count": 19,
   "metadata": {},
   "outputs": [],
   "source": [
    "def mask_ndvi(image):\n",
    "    qa_image = image.select('DetailedQA')\n",
    "    ndvi_image = image.select('NDVI')\n",
    "    mask = bitwiseExtract(qa_image, 0, 1).eq(0)\n",
    "    masked_ndvi = ndvi_image.updateMask(mask)\n",
    "    return masked_ndvi"
   ]
  },
  {
   "cell_type": "code",
   "execution_count": 108,
   "metadata": {},
   "outputs": [
    {
     "data": {
      "text/plain": [
       "<ee.imagecollection.ImageCollection at 0x162a84cb490>"
      ]
     },
     "execution_count": 108,
     "metadata": {},
     "output_type": "execute_result"
    }
   ],
   "source": []
  },
  {
   "cell_type": "code",
   "execution_count": 68,
   "metadata": {},
   "outputs": [],
   "source": [
    "masked_ndvi = ndvicollection.map(mask_ndvi)"
   ]
  },
  {
   "cell_type": "code",
   "execution_count": 82,
   "metadata": {},
   "outputs": [],
   "source": [
    "start = ee.Date('2015-04-01')\n",
    "end = ee.Date('2023-01-01')\n",
    "n_months = end.difference(start, 'month').subtract(1)\n",
    "yearmonths = ee.List.sequence(0, n_months).map(lambda n : start.advance(n, 'month'))"
   ]
  },
  {
   "cell_type": "code",
   "execution_count": 76,
   "metadata": {},
   "outputs": [],
   "source": [
    "def makeYearMonthlyComposite(date):\n",
    "  date = ee.Date(date)\n",
    "  \n",
    "  composite = (masked_ndvi\n",
    "        .filterDate(date, date.advance(1, 'month'))\n",
    "        .mean()\n",
    "        .set(\"system:index\", date.format(\"YYYY-MM\")))\n",
    "  \n",
    "  return composite"
   ]
  },
  {
   "cell_type": "code",
   "execution_count": 77,
   "metadata": {},
   "outputs": [],
   "source": [
    "yearmonthly_ndvi = ee.ImageCollection(yearmonths.map(makeYearMonthlyComposite))"
   ]
  },
  {
   "cell_type": "code",
   "execution_count": 109,
   "metadata": {},
   "outputs": [],
   "source": [
    "def makeMonthlyComposite(month):\n",
    "  \n",
    "  filter = ee.Filter.calendarRange(month, month, 'month')\n",
    "  \n",
    "  composite = (ndvicollection.select('NDVI')\n",
    "            .filter(filter)\n",
    "            .mean())\n",
    "  \n",
    "  return composite"
   ]
  },
  {
   "cell_type": "code",
   "execution_count": 110,
   "metadata": {},
   "outputs": [],
   "source": [
    "months = ee.List([*range(1,13)])\n",
    "\n",
    "monthly_ndvi = ee.ImageCollection(months.map(makeMonthlyComposite)).toBands()"
   ]
  },
  {
   "cell_type": "code",
   "execution_count": 113,
   "metadata": {},
   "outputs": [],
   "source": [
    "task = ee.batch.Export.image.toDrive(\n",
    "    image=monthly_ndvi,\n",
    "    description=f'monthly_ndvi_nomask',\n",
    "    folder = 'ndvi',\n",
    "    region = bounds,\n",
    "    dimensions = \"1920x2400\",\n",
    "    #scale = 5000,\n",
    "    #crs = 'EPSG:25832'\n",
    ")\n",
    "task.start()"
   ]
  },
  {
   "cell_type": "code",
   "execution_count": 114,
   "metadata": {},
   "outputs": [
    {
     "data": {
      "text/plain": [
       "{'state': 'RUNNING',\n",
       " 'description': 'monthly_ndvi_nomask',\n",
       " 'creation_timestamp_ms': 1679045820572,\n",
       " 'update_timestamp_ms': 1679046175653,\n",
       " 'start_timestamp_ms': 1679045875072,\n",
       " 'task_type': 'EXPORT_IMAGE',\n",
       " 'attempt': 1,\n",
       " 'id': 'WHMGFV2SJONCFDK5BXEIJBY6',\n",
       " 'name': 'projects/earthengine-legacy/operations/WHMGFV2SJONCFDK5BXEIJBY6'}"
      ]
     },
     "execution_count": 114,
     "metadata": {},
     "output_type": "execute_result"
    }
   ],
   "source": [
    "task.status()"
   ]
  }
 ],
 "metadata": {
  "kernelspec": {
   "display_name": "requests",
   "language": "python",
   "name": "python3"
  },
  "language_info": {
   "codemirror_mode": {
    "name": "ipython",
    "version": 3
   },
   "file_extension": ".py",
   "mimetype": "text/x-python",
   "name": "python",
   "nbconvert_exporter": "python",
   "pygments_lexer": "ipython3",
   "version": "3.11.0"
  },
  "orig_nbformat": 4,
  "vscode": {
   "interpreter": {
    "hash": "a85841601b2073ce9a3574cf729368d3423ec7b9362c85cfd5d03d007994f427"
   }
  }
 },
 "nbformat": 4,
 "nbformat_minor": 2
}
